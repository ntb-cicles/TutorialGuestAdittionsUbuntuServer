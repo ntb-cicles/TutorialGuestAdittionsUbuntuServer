{
 "cells": [
  {
   "cell_type": "markdown",
   "metadata": {
    "id": "VKeI-QSx7J_w"
   },
   "source": [
    "# Instal·lar GuestAdittions"
   ]
  },
  {
   "cell_type": "markdown",
   "metadata": {
    "id": "URL0QL3h7P9Z"
   },
   "source": [
    "MUNTAR EL CONTINGUT DE LA ISO, és a dir, el CD Virtual (\"/dev/cdrom\") al directori \"/mnt\""
   ]
  },
  {
   "cell_type": "code",
   "execution_count": null,
   "metadata": {
    "id": "XcUxBeU07E9c"
   },
   "outputs": [],
   "source": [
    "sudo mount /dev/cdrom /mnt "
   ]
  },
  {
   "cell_type": "markdown",
   "metadata": {
    "id": "URL0QL3h7P9Z"
   },
   "source": [
    "Executar l'instal·lador del programa de les GuestAdittions"
   ]
  },
  {
   "cell_type": "code",
   "execution_count": null,
   "metadata": {
    "id": "8H8SozL07QIh"
   },
   "outputs": [],
   "source": [
    "cd /mnt\n",
    "sudo ./VBoxLinuxAdditions.run "
   ]
  },
  {
   "cell_type": "markdown",
   "metadata": {
    "id": "ZG1xEwS37QPz"
   },
   "source": [
    "Segurament no us funcionarà la instal·lació, perquè l'instal·lador \"VBoxLinuxAdditions\" depèn d'altres programes diferents per a que funcioni\n",
    "\n",
    "\\\n",
    "\n",
    "És a dir, el programa \"VBoxLinuxAdditions\" té com a dependències altres programes com \"bzip2\", \"tar\", \"gcc\", \"make\", \"perl\"."
   ]
  },
  {
   "cell_type": "code",
   "execution_count": null,
   "metadata": {
    "id": "-Fzuswhq7QX6"
   },
   "outputs": [],
   "source": [
    "sudo apt-get update\n",
    "sudo apt-get install bzip2 tar\n",
    "sudo apt-get install gcc make perl "
   ]
  },
  {
   "cell_type": "markdown",
   "metadata": {
    "id": "URL0QL3h7P9Z"
   },
   "source": [
    "Executar l'instal·lador del programa de les GuestAdittions"
   ]
  },
  {
   "cell_type": "code",
   "execution_count": null,
   "metadata": {},
   "outputs": [],
   "source": [
    "cd /mnt\n",
    "sudo ./VBoxLinuxAdditions.run "
   ]
  },
  {
   "cell_type": "markdown",
   "metadata": {
    "id": "URL0QL3h7P9Z"
   },
   "source": [
    "#### AQUÍ, FER CAPTURA DE PANTALLA DEL RESULTAT DE LA INSTAL·LACIÓ DE LES GUEST ADDITIONS"
   ]
  },
  {
   "cell_type": "markdown",
   "metadata": {
    "id": "URL0QL3h7P9Z"
   },
   "source": [
    "Si s'han instal·lat les GuestAdittions correctament, reinicieu el sistema operatiu"
   ]
  },
  {
   "cell_type": "code",
   "execution_count": null,
   "metadata": {},
   "outputs": [],
   "source": [
    "sudo reboot"
   ]
  },
  {
   "cell_type": "markdown",
   "metadata": {
    "id": "nzNQo-m_7Qd_"
   },
   "source": [
    "# Creació, configuració i muntatge de la carpeta compartida\n",
    "\n",
    "Ara anem a crear la carpeta compartida. Per a fer-ho, primer tanqueu la MV"
   ]
  },
  {
   "cell_type": "code",
   "execution_count": null,
   "metadata": {
    "id": "M5vyQAgd7Qls"
   },
   "outputs": [],
   "source": [
    "sudo poweroff\n",
    "sudo shutdown -h now"
   ]
  },
  {
   "cell_type": "markdown",
   "metadata": {
    "id": "PdNeulfS7Qsi"
   },
   "source": [
    "Quan estigui la MV tancada, clic dret a la MV i pitja l'opció \"paràmetres\"\n"
   ]
  },
  {
   "cell_type": "code",
   "execution_count": null,
   "metadata": {
    "id": "3SbD8XLe7Q1E"
   },
   "outputs": [],
   "source": [
    "cp  /etc/samba/smb.conf  /etc/samba/smb.conf.backup\n",
    "nano /etc/samba/smb.conf\n",
    "\n",
    "# o per modificar-lo des de zero:\n",
    "\n",
    "cp  /etc/samba/smb.conf  /etc/samba/smb.conf.backup\n",
    "rm /etc/samba/smb.conf\n",
    "nano /etc/samba/smb.conf"
   ]
  },
  {
   "cell_type": "markdown",
   "metadata": {
    "id": "LsPfg1hJ1ElK"
   },
   "source": [
    "- Vés a l'apartat \"Carpetes compartides\"\n",
    "\n",
    "- Afegeix una nova carpeta compartida\n",
    "\n",
    "- En la finestra que apareix escribiu:\n",
    "\n",
    "-> Selecciona la ruta (del teu ordinador HOST) on vols que es guardi la carpeta virtual. Per exemple, `C:\\Users\\profe\\carpetes-comp-virtualbox`\n",
    "\n",
    "-> Nom de la carpeta, el que vulgueu, per exemple `ubuntuservercomp`\n",
    "\n",
    "-> **NO** seleccionar `només lectura` ni `munta automàticament`\n",
    "\n",
    "-> Punt de muntatge deixeu-lo en blanc\n"
   ]
  },
  {
   "cell_type": "markdown",
   "metadata": {
    "id": "URL0QL3h7P9Z"
   },
   "source": [
    "#### AQUÍ, FER CAPTURA DE PANTALLA DE LES CARACTERÍSTIQUES DE LA VOSTRA CARPETA COMPARTIDA"
   ]
  },
  {
   "cell_type": "markdown",
   "metadata": {
    "id": "URL0QL3h7P9Z"
   },
   "source": [
    "Obre la MV."
   ]
  },
  {
   "cell_type": "markdown",
   "metadata": {
    "id": "URL0QL3h7P9Z"
   },
   "source": [
    "Crea una carpeta en el Linux on muntaràs la carpeta compartida. Aquesta carpeta serà el que s'anomena **punt de muntatge**."
   ]
  },
  {
   "cell_type": "code",
   "execution_count": null,
   "metadata": {},
   "outputs": [],
   "source": [
    "mkdir ~/shared"
   ]
  },
  {
   "cell_type": "markdown",
   "metadata": {
    "id": "URL0QL3h7P9Z"
   },
   "source": [
    "Munta la carpeta compartida \"ubuntuservercomp\" al punt de muntatge."
   ]
  },
  {
   "cell_type": "code",
   "execution_count": null,
   "metadata": {},
   "outputs": [],
   "source": [
    "sudo mount -t vboxsf ubuntuservercomp ~/shared\n",
    "\n",
    "cd ~/shared"
   ]
  },
  {
   "cell_type": "markdown",
   "metadata": {
    "id": "URL0QL3h7P9Z"
   },
   "source": [
    "Proveu de crear un fitxer a la carpeta \"~/shared\" del GUEST i mireu a la carpeta \"C:\\Users\\profe\\carpetes-comp-virtualbox\" del HOST si hi apareix."
   ]
  },
  {
   "cell_type": "markdown",
   "metadata": {
    "id": "URL0QL3h7P9Z"
   },
   "source": [
    "#### AQUÍ, FER CAPTURA DE PANTALLA ON ES VEGI QUE ELS MATEIXOS FITXERS APAREIXEN, EN ELS DIRECTORIS CORRESPONENTS, TANT EN EL HOST COM EN EL GUEST"
   ]
  },
  {
   "cell_type": "markdown",
   "metadata": {
    "id": "QYabsEDimBve"
   },
   "source": [
    "Si reinicieu la MV la carpeta desapareixerà. Per fer-la permanent, seguiu els passos següents:"
   ]
  },
  {
   "cell_type": "markdown",
   "metadata": {
    "id": "be_p1c_e7RIy"
   },
   "source": [
    "## Fer permanent la carpeta compartida (sempre muntada per defecte)\n"
   ]
  },
  {
   "cell_type": "markdown",
   "metadata": {
    "id": "QYabsEDimBve"
   },
   "source": [
    "*TODO*"
   ]
  },
  {
   "cell_type": "code",
   "execution_count": null,
   "metadata": {
    "id": "8RfYv0qf8uVk"
   },
   "outputs": [],
   "source": []
  }
 ],
 "metadata": {
  "colab": {
   "collapsed_sections": [],
   "name": "DAM1 M1 - Introduccio a SMB en Linux i Windows.ipynb",
   "provenance": [],
   "toc_visible": true
  },
  "kernelspec": {
   "display_name": "Python 3 (ipykernel)",
   "language": "python",
   "name": "python3"
  },
  "language_info": {
   "codemirror_mode": {
    "name": "ipython",
    "version": 3
   },
   "file_extension": ".py",
   "mimetype": "text/x-python",
   "name": "python",
   "nbconvert_exporter": "python",
   "pygments_lexer": "ipython3",
   "version": "3.9.12"
  }
 },
 "nbformat": 4,
 "nbformat_minor": 1
}
